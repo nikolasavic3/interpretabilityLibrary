{
 "cells": [
  {
   "cell_type": "code",
   "execution_count": null,
   "metadata": {},
   "outputs": [],
   "source": [
    "import os\n",
    "import sys\n",
    "import numpy as np\n",
    "import matplotlib.pyplot as plt\n",
    "from PIL import Image\n",
    "import time\n",
    "import keras\n",
    "from keras.applications.imagenet_utils import decode_predictions\n",
    "from interpretabilityLibrary.methods.occlusionSensitivity import OcclusionSensitivity\n",
    "from interpretabilityLibrary.plot.vizualize import vizualize\n",
    "\n",
    "os.environ[\"KERAS_BACKEND\"] = \"jax\""
   ]
  },
  {
   "cell_type": "code",
   "execution_count": null,
   "metadata": {},
   "outputs": [],
   "source": [
    "model = keras.applications.MobileNetV2(\n",
    "    input_shape=(96, 96, 3),\n",
    "    include_top=True,\n",
    "    weights='imagenet'\n",
    ")"
   ]
  },
  {
   "cell_type": "code",
   "execution_count": 29,
   "metadata": {},
   "outputs": [
    {
     "data": {},
     "metadata": {},
     "output_type": "display_data"
    }
   ],
   "source": [
    "from urllib.request import urlretrieve\n",
    "from PIL import Image\n",
    "\n",
    "img_url = \"https://storage.googleapis.com/tensorflow/keras-applications/tests/elephant.jpg\"\n",
    "urlretrieve(img_url, \"test_image.jpg\")\n",
    "\n",
    "# Load and resize to smaller dimensions\n",
    "img_size = (96, 96)\n",
    "img = Image.open(\"test_image.jpg\").convert('RGB')\n",
    "img = img.resize(img_size)\n",
    "img_array = np.array(img)\n",
    "\n",
    "# Display the input image\n",
    "plt.figure(figsize=(5, 5))\n",
    "plt.imshow(img)\n",
    "plt.title(\"Input Image\")\n",
    "plt.axis('off')\n",
    "plt.show()\n",
    "\n",
    "# convert to float32 \n",
    "x = img_array.astype(np.float32)\n",
    "# model expects [-1, 1] range\n",
    "x = x / 127.5 - 1.0  \n",
    "x = np.expand_dims(x, axis=0)  # Add batch dimension"
   ]
  },
  {
   "cell_type": "code",
   "execution_count": 30,
   "metadata": {},
   "outputs": [
    {
     "name": "stdout",
     "output_type": "stream",
     "text": []
    },
    {
     "name": "stdout",
     "output_type": "stream",
     "text": []
    },
    {
     "data": {},
     "metadata": {},
     "output_type": "display_data"
    }
   ],
   "source": [
    "print(\"Creating explainer...\")\n",
    "explainer = OcclusionSensitivity(\n",
    "    model, \n",
    "    window_size=(8, 8),  \n",
    "    stride=(8, 8),       \n",
    "    occlusion_value=0.0\n",
    ")\n",
    "\n",
    "print(\"Getting model prediction...\")\n",
    "preds = model.predict(x)\n",
    "top_indices = np.argsort(preds[0])[-3:][::-1]\n",
    "top_confidences = preds[0][top_indices]\n",
    "class_names = decode_predictions(preds, top=3)[0]\n",
    "\n",
    "\n",
    "print(\"\\nTop 3 predictions:\")\n",
    "for i, (_, name, conf) in enumerate(class_names):\n",
    "    print(f\"{i+1}. {name} ({top_confidences[i]:.4f})\")\n",
    "\n",
    "\n",
    "print(\"Generating explanation...\")\n",
    "start_time = time.time()\n",
    "explanation = explainer.explain(x, targets=target_class)\n",
    "elapsed = time.time() - start_time\n",
    "print(f\"Time taken: {elapsed:.2f} seconds\")\n",
    "\n",
    "print(\"Visualizing results...\")\n",
    "vizualize(explanation, img_array, save_path=\"occlusion_demo.png\")"
   ]
  }
 ],
 "metadata": {
  "kernelspec": {
   "display_name": "Python 3",
   "language": "python",
   "name": "python3"
  },
  "language_info": {
   "codemirror_mode": {
    "name": "ipython",
    "version": 3
   },
   "file_extension": ".py",
   "mimetype": "text/x-python",
   "name": "python",
   "nbconvert_exporter": "python",
   "pygments_lexer": "ipython3",
   "version": "3.12.1"
  }
 },
 "nbformat": 4,
 "nbformat_minor": 2
}
